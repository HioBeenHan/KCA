{
 "cells": [
  {
   "cell_type": "markdown",
   "metadata": {},
   "source": [
    "# 재미로 만들어보는 카카오톡 채팅방 분석 스크립트\n",
    "\n",
    "1st commit: 2021-08-31 12:30  \n",
    "2nd commit: 2021-09-01 01:06"
   ]
  },
  {
   "cell_type": "code",
   "execution_count": 35,
   "metadata": {},
   "outputs": [],
   "source": [
    "### 1. 환경 및 경로 설정"
   ]
  },
  {
   "cell_type": "code",
   "execution_count": 7,
   "metadata": {},
   "outputs": [
    {
     "name": "stdout",
     "output_type": "stream",
     "text": [
      "Selected file -> :.\\sample.txt\n"
     ]
    }
   ],
   "source": [
    "import re\n",
    "import pandas as pd; import datetime as dt; import numpy as np\n",
    "import matplotlib.pyplot as plt; plt.style.use('ggplot')\n",
    "import locale; locale.setlocale(locale.LC_ALL, 'ko_KR.UTF-8')\n",
    "import os\n",
    "from glob import glob\n",
    "datadir = './'\n",
    "filelist = glob(datadir+'*.txt');filelist.sort();\n",
    "\n",
    "# File selection\n",
    "filename = filelist[-1]\n",
    "print('Selected file -> :'+filename)"
   ]
  },
  {
   "cell_type": "markdown",
   "metadata": {},
   "source": [
    "### 2. 텍스트 라인 포맷에 맞게 잘라내는 함수 정의"
   ]
  },
  {
   "cell_type": "code",
   "execution_count": 8,
   "metadata": {},
   "outputs": [],
   "source": [
    "def parse_line( txt ):\n",
    "  txt_split = txt.split(',')\n",
    "  time_ = txt_split[0]+','+txt_split[1]\n",
    "  id_ = txt_split[2].split(':')[0][1:-1].split('/')[0]\n",
    "  contents_ = txt_split[2].split(':')[1][1:-1]\n",
    "  contents_ = re.compile('[ㄱ-ㅎ|ㅏ-ㅣ]').sub('',contents_)\n",
    "  return time_, id_, contents_"
   ]
  },
  {
   "cell_type": "markdown",
   "metadata": {},
   "source": [
    "### 3. chat_data 폴더에 있는 모든 텍스트파일 긁어와서 list에 넣기 "
   ]
  },
  {
   "cell_type": "code",
   "execution_count": 9,
   "metadata": {},
   "outputs": [],
   "source": [
    "lines, ids, times, institutes = [], [], [], []\n",
    "for fileIdx in range(len(filelist)):\n",
    "    #print('Opening .... Filename : [%s]'%datadir+filelist[fileIdx])\n",
    "    chat = open(datadir+filelist[fileIdx], 'r', encoding=\"utf-8\").readlines()[8:]\n",
    "    for lineIdx in range(len(chat)):\n",
    "        line = chat[lineIdx]\n",
    "        if line is not '\\n':\n",
    "            try:\n",
    "                time_, id_, contents_ = parse_line(line)\n",
    "                ids.append(id_); \n",
    "                lines.append(contents_)\n",
    "                times.append(time_); \n",
    "            except:\n",
    "                pass\n",
    "        \n",
    "# Save option\n",
    "saveOpt = True\n",
    "if saveOpt:\n",
    "    df = pd.DataFrame( {'timestamp':times, 'nickname':ids, \"contents\":lines })\n",
    "    writer = pd.ExcelWriter('chat_data.xlsx', engine='xlsxwriter')\n",
    "    df.to_excel(writer, sheet_name='Sheet1')\n",
    "    writer.close()"
   ]
  },
  {
   "cell_type": "markdown",
   "metadata": {},
   "source": [
    "### 4. 이름 별 채팅 횟수 계산 / Rank 나타내기"
   ]
  },
  {
   "cell_type": "code",
   "execution_count": 10,
   "metadata": {},
   "outputs": [
    {
     "name": "stdout",
     "output_type": "stream",
     "text": [
      "[Rank 01] 이재: 32\n",
      "[Rank 02] 효빈: 31\n",
      "[Rank 03] 김보: 22\n",
      "[Rank 04] 김정: 19\n",
      "[Rank 05] 이규: 12\n",
      "[Rank 06] 이유: 6\n",
      "[Rank 07] 박지: 4\n",
      "[Rank 08] 김해: 2\n",
      "[Rank 09] 김서: 1\n"
     ]
    },
    {
     "data": {
      "image/png": "[encoded data removed]",
      "text/plain": [
       "<Figure size 360x360 with 1 Axes>"
      ]
     },
     "metadata": {},
     "output_type": "display_data"
    }
   ],
   "source": [
    "nicknames = df['nickname'].to_list()\n",
    "\n",
    "# Count\n",
    "from collections import Counter\n",
    "count = dict( Counter(nicknames) )\n",
    "names = list(count.keys())\n",
    "counts = np.array(list(count.values()))\n",
    "\n",
    "# Sort & formulate x, y data\n",
    "rank = counts.argsort()\n",
    "names_by_rank, counts_by_rank = [],[]\n",
    "for rankIdx in range(len(rank)-1,-1,-1):\n",
    "    # 이름 공개를 피하기 위해 앞 2글자만 쓰기( [:2] )\n",
    "    print('[Rank %02d] %s: %d'%(len(rank)-rankIdx,names[rank[rankIdx]][:2], counts[rank[rankIdx]]))\n",
    "    names_by_rank.append(names[rank[rankIdx]][:2]); counts_by_rank.append(counts[rank[rankIdx]])\n",
    "    #print('[Rank %02d] %s: %d'%(len(rank)-rankIdx,names[rank[rankIdx]], counts[rank[rankIdx]]))\n",
    "    #names_by_rank.append(names[rank[rankIdx]]); counts_by_rank.append(counts[rank[rankIdx]])\n",
    "\n",
    "# Visualization\n",
    "plt.figure(figsize=(5,5))\n",
    "plt.barh(names_by_rank, counts_by_rank)\n",
    "ax = plt.gca(); ax.invert_yaxis(); #ax.set_xscale('log')\n",
    "plt.xlabel('Total message count rank', fontsize=15)\n",
    "ax.tick_params( axis='y', labelsize= 20 )\n",
    "ax.tick_params( axis='x', labelsize= 15 )\n"
   ]
  },
  {
   "cell_type": "markdown",
   "metadata": {},
   "source": [
    "### 5. 특정 이름 가진 사람만 분석하기"
   ]
  },
  {
   "cell_type": "code",
   "execution_count": 34,
   "metadata": {},
   "outputs": [
    {
     "name": "stdout",
     "output_type": "stream",
     "text": [
      "발화 시점: ['Aug 3, 2021 9:45 AM', 'Aug 6, 2021 11:24 AM', 'Aug 12, 2021 2:20 PM', 'Aug 13, 2021 10:58 AM']\n",
      "발화 내용: ['넵 괜찮습니다~~', '학교에 제출할 서류가 있어서 오늘은 재택하겠습니다..!', '넵 저도 괜찮습니답', '저도 오늘 재택하겠습니다']\n"
     ]
    }
   ],
   "source": [
    "# 계산 편의를 위해 리스트로 변환\n",
    "nicknames = df['nickname'].to_list()\n",
    "timestamps = df['timestamp'].to_list()\n",
    "contents = df['contents'].to_list()\n",
    "\n",
    "target_id = '박지'\n",
    "times = [timestamps[i] for i in range(len(nicknames)) if target_id in nicknames[i]]\n",
    "lines = [contents[i] for i in range(len(nicknames)) if target_id in nicknames[i]]\n",
    "\n",
    "print('발화 시점: %s'%times)\n",
    "print('발화 내용: %s'%lines)\n",
    "\n"
   ]
  },
  {
   "cell_type": "markdown",
   "metadata": {},
   "source": [
    "### 6. 발화자 별 발화 시점 구하기\n",
    "\n",
    "발화 시점을 구하기 앞서, 카카오톡 채팅 export 기능에서 제공하는 timestamp string를 정규식으로 변환해줄 필요가 있음.  \n",
    "이를 위해, string을 받아 숫자(float) 형식으로 된 timestamp를 return해주는 함수를 먼저 구현해야 함.\n",
    "\n"
   ]
  },
  {
   "cell_type": "code",
   "execution_count": 14,
   "metadata": {},
   "outputs": [],
   "source": [
    "from time import mktime\n",
    "from datetime import datetime\n",
    "from calendar import monthrange\n",
    "\n",
    "def format_datestr( string_in ):\n",
    "    \n",
    "    # Parse input\n",
    "    md_str, yHM_str = string_in.split(',')[0], string_in.split(',')[1][1:]\n",
    "    y = int(yHM_str.split(' ')[0])\n",
    "    m = ['Jan','Feb','Mar','Apr','May','Jun','Jul','Aug','Sep','Oct','Nov','Dec'].index(md_str.split(' ')[0])+1\n",
    "    d = int( md_str.split(' ')[1] )\n",
    "    H = int( yHM_str.split(' ')[1].split(':')[0] )\n",
    "    if yHM_str.split(' ')[-1] == 'PM': H += 12\n",
    "    M = int( yHM_str.split(' ')[1].split(':')[1] )\n",
    "        \n",
    "    # Correct day-, month-, or year-passing\n",
    "    if H>=24: \n",
    "        d += 1; H -= 24\n",
    "    if d > monthrange(y, m)[1]:\n",
    "        m += 1; d = 1\n",
    "    if m > 13:\n",
    "        y += 1; m = 1\n",
    "    \n",
    "    # Output arguments\n",
    "    string_out = '%04d-%02d-%02d %02d:%02d:00'%(y,m,d,H,M)\n",
    "    abs_time = mktime(datetime.strptime(string_out,'%Y-%m-%d %H:%M:%S').timetuple())\n",
    "    return string_out, abs_time\n",
    "\n",
    "#def which_day(y,m,d):return ['MON','TUE','WED','THU','FRI','SAT','SUN'][datetime.date(y,m,d).weekday()]"
   ]
  },
  {
   "cell_type": "markdown",
   "metadata": {},
   "source": [
    "이 함수를 이용해, 아래와 같이 생긴 2차원의 binary matrix를 구현한 뒤 raster plot을 시각화.\n",
    "\n",
    "참고로 raster_matrix는 아래와 같이 생김\n",
    "\n",
    "``` python\n",
    "                <- 시간 축 -> (시간은 분 단위)\n",
    "발화자 1 - [ 0 0 0 0 1 0 0 0 1 0 1 ... 0 ]\n",
    "발화자 2 - [ 1 0 0 0 1 0 0 0 0 0 0 ... 0 ]\n",
    "발화자 3 - [ 0 0 1 0 1 0 0 0 1 0 0 ... 0 ]\n",
    "발화자 4 - [ 0 0 0 0 0 0 1 0 1 0 1 ... 0 ]\n",
    "...\n",
    "```"
   ]
  },
  {
   "cell_type": "code",
   "execution_count": 31,
   "metadata": {},
   "outputs": [
    {
     "data": {
      "image/png": "[encoded data removed]",
      "text/plain": [
       "<Figure size 864x360 with 1 Axes>"
      ]
     },
     "metadata": {},
     "output_type": "display_data"
    }
   ],
   "source": [
    "# Formatting [Timestamp, Nickname] 2D matrix (타이밍 딕셔너리)\n",
    "when_by_whom = np.zeros( (df.shape[0],2), dtype=int)\n",
    "for lineIdx in range(df.shape[0]):\n",
    "    by = names_by_rank.index(df['nickname'][lineIdx][:2])\n",
    "    _, timestamp = format_datestr( df['timestamp'][lineIdx] )\n",
    "    if lineIdx==0: timestamp_base = timestamp\n",
    "    when_by_whom[lineIdx,:] = [(timestamp-timestamp_base)/60, by] # To set its unit to \"minute\"\n",
    "\n",
    "# Formatting 2D binary matrix\n",
    "raster_matrix = np.zeros( (when_by_whom[-1,0]+1,len(names_by_rank)), dtype='bool')\n",
    "for lineIdx in range(when_by_whom.shape[0]):\n",
    "    raster_matrix[ when_by_whom[lineIdx,0], when_by_whom[lineIdx,1] ] = True\n",
    "\n",
    "# Visualization (raster plot)\n",
    "plt.figure(figsize=(12,5))\n",
    "for nameIdx in range(raster_matrix.shape[1]):\n",
    "    x = np.where(raster_matrix[:,nameIdx])[0]\n",
    "    y = np.zeros(x.shape[0])+nameIdx\n",
    "    plt.plot(x,y,'o')\n",
    "ax = plt.gca()\n",
    "ax.invert_yaxis()\n",
    "plt.yticks( ticks = range(len(names_by_rank)), labels = names_by_rank )\n",
    "plt.ylim((-1, len(names_by_rank)))\n",
    "plt.title('단톡방 닉네임 별 발화 시점')\n",
    "plt.xlabel('시간 (분)')\n",
    "plt.ylabel('발화자');\n"
   ]
  },
  {
   "cell_type": "markdown",
   "metadata": {},
   "source": [
    "# 시간 잘 가네"
   ]
  },
  {
   "cell_type": "code",
   "execution_count": null,
   "metadata": {},
   "outputs": [],
   "source": []
  }
 ],
 "metadata": {
  "kernelspec": {
   "display_name": "Python 3",
   "language": "python",
   "name": "python3"
  },
  "language_info": {
   "codemirror_mode": {
    "name": "ipython",
    "version": 3
   },
   "file_extension": ".py",
   "mimetype": "text/x-python",
   "name": "python",
   "nbconvert_exporter": "python",
   "pygments_lexer": "ipython3",
   "version": "3.7.4"
  }
 },
 "nbformat": 4,
 "nbformat_minor": 4
}

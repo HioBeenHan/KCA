{
 "cells": [
  {
   "cell_type": "markdown",
   "metadata": {},
   "source": [
    "# 재미로 만들어보는 카카오톡 단톡방 분석 스크립트\n",
    "\n",
    "1st commit: 2021-08-31 12:30. 뼈대 작업.  \n",
    "2nd commit: 2021-09-01 01:06. Raster plot 추가.  \n",
    "3rd commit: 2021-09-01 02:55. 한글버전/영어버전 export 호환성 개선.  \n"
   ]
  },
  {
   "cell_type": "markdown",
   "metadata": {},
   "source": [
    "### 1. 환경 및 경로 설정\n",
    "\n"
   ]
  },
  {
   "cell_type": "code",
   "execution_count": 6,
   "metadata": {},
   "outputs": [
    {
     "name": "stdout",
     "output_type": "stream",
     "text": [
      "(Kor ver.) Selected file -> [../private_data/Talk_2021.8.31 15:30-1.txt]\n"
     ]
    }
   ],
   "source": [
    "import re\n",
    "import pandas as pd; import datetime as dt; import numpy as np\n",
    "import matplotlib.pyplot as plt; plt.style.use('ggplot')\n",
    "from matplotlib import rc; rc('font', family='AppleGothic')\n",
    "plt.rcParams['axes.unicode_minus'] = False\n",
    "import locale; locale.setlocale(locale.LC_ALL, 'ko_KR.UTF-8')\n",
    "import os\n",
    "from glob import glob\n",
    "datadir = './'\n",
    "#datadir = 'C:/Users/Gbook-Jeelab/Desktop/'\n",
    "datadir = '../private_data/'; \n",
    "filelist = glob(datadir+'*.txt');filelist.sort();\n",
    "\n",
    "# File selection\n",
    "filename = filelist[-1]\n",
    "\n",
    "# Autodetect KOR/ENG version (export executed in which version of OS)\n",
    "if 'Date' == open(filename, 'r', encoding=\"utf-8\").readlines()[1][:4]:\n",
    "    export_version = 'Eng' #'Kor'\n",
    "else:\n",
    "    export_version = 'Kor' #'Kor'\n",
    "print('(%s ver.) Selected file -> [%s]'%(export_version,filename))\n"
   ]
  },
  {
   "cell_type": "markdown",
   "metadata": {},
   "source": [
    "### 2. 텍스트 라인 포맷에 맞게 잘라내는 함수 정의"
   ]
  },
  {
   "cell_type": "code",
   "execution_count": 7,
   "metadata": {},
   "outputs": [],
   "source": [
    "\"\"\" English version \"\"\"\n",
    "def parse_line( txt, export_version=export_version ):\n",
    "    txt_split = txt.split(',')\n",
    "    if export_version == 'Eng':\n",
    "        time_ = txt_split[0]+','+txt_split[1]\n",
    "        id_ = txt_split[2].split(':')[0][1:-1].split('/')[0]\n",
    "        contents_ = txt_split[2].split(':')[1][1:-1]\n",
    "    elif export_version == 'Kor':\n",
    "        time_ = txt_split[0]\n",
    "        id_ = txt_split[1].split(':')[0][1:-1].split('/')[0]\n",
    "        contents_ = txt_split[1].split(':')[1][1:-1]\n",
    "    contents_ = re.compile('[ㄱ-ㅎ|ㅏ-ㅣ]').sub('',contents_)\n",
    "    \n",
    "    return time_, id_, contents_"
   ]
  },
  {
   "cell_type": "markdown",
   "metadata": {},
   "source": [
    "### 3. chat_data 폴더에 있는 모든 텍스트파일 긁어와서 list에 넣기 "
   ]
  },
  {
   "cell_type": "code",
   "execution_count": 8,
   "metadata": {},
   "outputs": [
    {
     "name": "stdout",
     "output_type": "stream",
     "text": [
      "Opening .... Filename : [../private_data/Talk_2021.8.31 15:30-1.txt]\n"
     ]
    }
   ],
   "source": [
    "lines, ids, times = [], [], []\n",
    "for fileIdx in range(len(filelist)):\n",
    "    print('Opening .... Filename : [%s]'%filelist[fileIdx])\n",
    "    chat = open(filelist[fileIdx], 'r', encoding=\"utf-8\").readlines()[8:]\n",
    "    for lineIdx in range(len(chat)):\n",
    "        line = chat[lineIdx]\n",
    "        if line is not '\\n':\n",
    "            try: # 현재 버전에서는 첫 줄만 가져옴. 향후 줄바꿈(\\n)을 제거해서 긴 글도 가져올 필요 있음.\n",
    "                if export_version == 'Kor':\n",
    "                    if line[0]=='2': # 이 조건문 조금 더 정교하게 만들 필요 있음. 지금 너무 못 생김.\n",
    "                        time_, id_, contents_ = parse_line(line)\n",
    "                        ids.append(id_); \n",
    "                        lines.append(contents_)\n",
    "                        times.append(time_); \n",
    "                else:\n",
    "                    time_, id_, contents_ = parse_line(line)\n",
    "                    ids.append(id_); \n",
    "                    lines.append(contents_)\n",
    "                    times.append(time_); \n",
    "            except:\n",
    "                pass\n",
    "        \n",
    "# Save option\n",
    "df = pd.DataFrame( {'timestamp':times, 'nickname':ids, \"contents\":lines })\n",
    "if False:\n",
    "    writer = pd.ExcelWriter('chat_data.xlsx', engine='xlsxwriter')\n",
    "    df.to_excel(writer, sheet_name='Sheet1')\n",
    "    writer.close()"
   ]
  },
  {
   "cell_type": "markdown",
   "metadata": {},
   "source": [
    "### 4. 이름 별 채팅 횟수 계산 / Rank 나타내기"
   ]
  },
  {
   "cell_type": "code",
   "execution_count": 13,
   "metadata": {},
   "outputs": [
    {
     "name": "stdout",
     "output_type": "stream",
     "text": [
      "[Rank 01] 효빈: 2335\n",
      "[Rank 02] 홍광: 2073\n",
      "[Rank 03] 손망: 1299\n",
      "[Rank 04] 원택: 895\n",
      "[Rank 05] 완태: 389\n"
     ]
    },
    {
     "data": {
      "image/png": "[encoded data removed]",
      "text/plain": [
       "<Figure size 576x360 with 1 Axes>"
      ]
     },
     "metadata": {},
     "output_type": "display_data"
    }
   ],
   "source": [
    "nicknames = df['nickname'].to_list()\n",
    "\n",
    "# Count\n",
    "from collections import Counter\n",
    "count = dict( Counter(nicknames) )\n",
    "names = list(count.keys())\n",
    "counts = np.array(list(count.values()))\n",
    "\n",
    "# Sort & formulate x, y data\n",
    "rank = counts.argsort()\n",
    "names_by_rank, counts_by_rank = [],[]\n",
    "for rankIdx in range(len(rank)-1,-1,-1):\n",
    "    # 이름 공개를 피하기 위해 앞 2글자만 쓰기( [:2] )\n",
    "    print('[Rank %02d] %s: %d'%(len(rank)-rankIdx,names[rank[rankIdx]][:2], counts[rank[rankIdx]]))\n",
    "    names_by_rank.append(names[rank[rankIdx]][:2]); counts_by_rank.append(counts[rank[rankIdx]])\n",
    "    #print('[Rank %02d] %s: %d'%(len(rank)-rankIdx,names[rank[rankIdx]], counts[rank[rankIdx]]))\n",
    "    #names_by_rank.append(names[rank[rankIdx]]); counts_by_rank.append(counts[rank[rankIdx]])\n",
    "\n",
    "# Visualization\n",
    "plt.figure(figsize=(8,5))\n",
    "plt.barh(names_by_rank, counts_by_rank)\n",
    "ax = plt.gca(); ax.invert_yaxis(); #ax.set_xscale('log')\n",
    "plt.xlabel('개인별 발화 건수', fontsize=15)\n",
    "ax.tick_params( axis='y', labelsize= 15 )\n",
    "ax.tick_params( axis='x', labelsize= 15 )\n"
   ]
  },
  {
   "cell_type": "markdown",
   "metadata": {},
   "source": [
    "### 참고) 그림에서 한글이 깨지는 경우 해결법\n",
    "\n",
    "*** ***\n",
    "*** (1) Matplotlib Font rc.param 직접 변경 (MacOS) ***  \n",
    "\n",
    "아래 코드 실행하면 됨.\n",
    "\n",
    "```python\n",
    "from matplotlib import rc\n",
    "c('font', family='AppleGothic')\n",
    "plt.rcParams['axes.unicode_minus'] = False\n",
    "\n",
    "```\n",
    "\n",
    "*** ***\n",
    "\n",
    "*** (2) Matplotlib Font 헤더파일 변경 (Window) ***  \n",
    "\n",
    "귀찮으니 다음 [블로그 글](https://mimmic.tistory.com/entry/matplotlib-%ED%95%9C%EA%B8%80-%EA%B9%A8%EC%A7%90-%ED%95%B4%EA%B2%B0-%EB%B0%A9%EB%B2%95) 참고.  \n",
    "  \n",
    "*** ***\n",
    "  \n",
    "*** (3) Matplotlib 패키지 경로에 직접 ttf 파일 넣어주기 ***\n",
    "\n",
    "Matplotlib 설치 경로는 아래 코드 실행으로 알아볼 수 있고,\n",
    "\n",
    "``` python\n",
    "import sys\n",
    "sys.executable \n",
    "```\n",
    "\n",
    "위 코드의 실행 결과로, 지금 이 local machine의 경우엔 C:\\ProgramData\\Anaconda3\\python.exe 가 뜬다.  \n",
    "만약 이런 경우엔, [하위 경로](C:\\ProgramData\\Anaconda3\\Lib\\site-packages\\matplotlib\\mpl-data\\fonts\\ttf)(C:\\ProgramData\\Anaconda3\\Lib\\site-packages\\matplotlib\\mpl-data\\fonts\\ttf)를 열어서  \n",
    "폰트 파일(NanumGothic.ttf) 파일을 넣어주면 됨.\n",
    "*** ***\n"
   ]
  },
  {
   "cell_type": "markdown",
   "metadata": {},
   "source": [
    "### 5. 특정 이름 가진 사람만 분석하기\n",
    "\n",
    "***target_id*** 변수 설정을 통해, 특정 id를 가진 사람의 발화 내용과 시점을 아래와 같이 가져올 수 있음."
   ]
  },
  {
   "cell_type": "code",
   "execution_count": 18,
   "metadata": {},
   "outputs": [],
   "source": [
    "# 계산 편의를 위해 리스트로 변환\n",
    "nicknames = df['nickname'].to_list()\n",
    "timestamps = df['timestamp'].to_list()\n",
    "contents = df['contents'].to_list()\n",
    "\n",
    "target_id = '효빈'\n",
    "times = [timestamps[i] for i in range(len(nicknames)) if target_id in nicknames[i]]\n",
    "lines = [contents[i] for i in range(len(nicknames)) if target_id in nicknames[i]]\n",
    "\n",
    "#print('발화 시점: %s\\n'%times)\n",
    "#print('발화 내용: %s'%lines)"
   ]
  },
  {
   "cell_type": "markdown",
   "metadata": {},
   "source": [
    "### 6. 발화자 별 발화 시점 구하기\n",
    "\n",
    "발화 시점을 구하기 앞서, 카카오톡 채팅 export 기능에서 제공하는 timestamp string를 정규식으로 변환해줄 필요가 있음.  \n",
    "이를 위해, string을 받아 숫자(float) 형식으로 된 timestamp를 return해주는 함수를 먼저 구현해야 함.\n",
    "\n"
   ]
  },
  {
   "cell_type": "code",
   "execution_count": 19,
   "metadata": {},
   "outputs": [],
   "source": [
    "from time import mktime\n",
    "from datetime import datetime\n",
    "from calendar import monthrange\n",
    "\n",
    "\"\"\" English version \"\"\"\n",
    "def format_datestr( string_in, export_version = export_version ):\n",
    "    if export_version == 'Eng':\n",
    "        # Parse input\n",
    "        md_str, yHM_str = string_in.split(',')[0], string_in.split(',')[1][1:]\n",
    "        y = int(yHM_str.split(' ')[0])\n",
    "        m = ['Jan','Feb','Mar','Apr','May','Jun','Jul','Aug','Sep','Oct','Nov','Dec'].index(md_str.split(' ')[0])+1\n",
    "        d = int( md_str.split(' ')[1] )\n",
    "        H = int( yHM_str.split(' ')[1].split(':')[0] )\n",
    "        if yHM_str.split(' ')[-1] == 'PM': H += 12\n",
    "        M = int( yHM_str.split(' ')[1].split(':')[1] )\n",
    "        \n",
    "    elif export_version == 'Kor':\n",
    "        # Parse input\n",
    "        split_str = string_in.split('.')\n",
    "        y,m,d = int(split_str[0]), int(split_str[1]), int(split_str[2])\n",
    "        PM = split_str[-1].split(' ')[1] == '오후'\n",
    "        HM_str = split_str[-1].split(' ')[2]\n",
    "        H = int( HM_str.split(':')[0] )\n",
    "        if PM: H += 12\n",
    "        M = int( HM_str.split(':')[1] )        \n",
    "        \n",
    "    # Correct day-, month-, or year-passing\n",
    "    if H>=24: \n",
    "        d += 1; H -= 24\n",
    "    if d > monthrange(y, m)[1]:\n",
    "        m += 1; d = 1\n",
    "    if m > 13:\n",
    "        y += 1; m = 1\n",
    "        \n",
    "    # Output arguments\n",
    "    string_out = '%04d-%02d-%02d %02d:%02d:00'%(y,m,d,H,M)\n",
    "    abs_time = mktime(datetime.strptime(string_out,'%Y-%m-%d %H:%M:%S').timetuple())\n",
    "    return string_out, abs_time    \n",
    "\n",
    "\n",
    "#def which_day(y,m,d):return ['MON','TUE','WED','THU','FRI','SAT','SUN'][datetime.date(y,m,d).weekday()]"
   ]
  },
  {
   "cell_type": "markdown",
   "metadata": {},
   "source": [
    "이 함수를 이용해, 아래와 같이 생긴 2차원의 binary matrix를 구현한 뒤 이를 raster plot으로 시각화.\n",
    "\n",
    "참고로 raster_matrix는 아래와 같이 생김\n",
    "\n",
    "``` python\n",
    "                <- 시간 축 -> (시간은 분 단위)\n",
    "발화자 1 - [ 0 0 0 0 1 0 0 0 1 0 1 ... 0 ]\n",
    "발화자 2 - [ 1 0 0 0 1 0 0 0 0 0 0 ... 0 ]\n",
    "발화자 3 - [ 0 0 1 0 1 0 0 0 1 0 0 ... 0 ]\n",
    "발화자 4 - [ 0 0 0 0 0 0 1 0 1 0 1 ... 0 ]\n",
    "...\n",
    "```"
   ]
  },
  {
   "cell_type": "code",
   "execution_count": 20,
   "metadata": {},
   "outputs": [
    {
     "data": {
      "image/png": "[encoded data removed]",
      "text/plain": [
       "<Figure size 864x360 with 1 Axes>"
      ]
     },
     "metadata": {},
     "output_type": "display_data"
    }
   ],
   "source": [
    "# Formatting [Timestamp, Nickname] 2D matrix (타이밍 딕셔너리)\n",
    "when_by_whom = np.zeros( (df.shape[0],2), dtype=int)\n",
    "for lineIdx in range(df.shape[0]):\n",
    "    by = names_by_rank.index(df['nickname'][lineIdx][:2])\n",
    "    _, timestamp = format_datestr( df['timestamp'][lineIdx] )\n",
    "    if lineIdx==0: timestamp_base = timestamp\n",
    "    when_by_whom[lineIdx,:] = [(timestamp-timestamp_base)/60, by] # To set its unit to \"minute\"\n",
    "\n",
    "# Formatting 2D binary matrix\n",
    "raster_matrix = np.zeros( (when_by_whom[-1,0]+1,len(names_by_rank)), dtype='bool')\n",
    "for lineIdx in range(when_by_whom.shape[0]):\n",
    "    raster_matrix[ when_by_whom[lineIdx,0], when_by_whom[lineIdx,1] ] = True\n",
    "\n",
    "# Visualization (raster plot)\n",
    "plt.figure(figsize=(12,5))\n",
    "for nameIdx in range(raster_matrix.shape[1]):\n",
    "    x = np.where(raster_matrix[:,nameIdx])[0]\n",
    "    y = np.zeros(x.shape[0])+nameIdx\n",
    "    plt.plot(x,y,'o')\n",
    "ax = plt.gca()\n",
    "ax.invert_yaxis()\n",
    "plt.yticks( ticks = range(len(names_by_rank)), labels = names_by_rank )\n",
    "plt.ylim((-1, len(names_by_rank)))\n",
    "plt.title('단톡방 닉네임 별 발화 시점')\n",
    "plt.xlabel('시간 (분)')\n",
    "plt.ylabel('발화자');\n"
   ]
  },
  {
   "cell_type": "code",
   "execution_count": null,
   "metadata": {},
   "outputs": [],
   "source": []
  },
  {
   "cell_type": "code",
   "execution_count": 113,
   "metadata": {},
   "outputs": [
    {
     "data": {
      "image/png": "[encoded data removed]",
      "text/plain": [
       "<Figure size 864x216 with 3 Axes>"
      ]
     },
     "metadata": {},
     "output_type": "display_data"
    }
   ],
   "source": [
    "# Smoothing first\n",
    "def smooth(x, span): return np.convolve(x,np.ones(int(span))/int(span), mode='same')\n",
    "raster_smooth = np.zeros( (when_by_whom[-1,0]+1,len(names_by_rank)), dtype='bool')\n",
    "n_smooth = 600\n",
    "for i in range(raster_matrix.shape[1]):\n",
    "    raster_smooth[:,i]= smooth( raster_matrix[:,i], n_smooth )\n",
    "    \n",
    "plt.figure(figsize=(12,3))\n",
    "plt.subplot(1,3,(1,2))\n",
    "plt.imshow(raster_smooth.transpose(), aspect='auto', cmap='gray')\n",
    "plt.xlabel('Time (min)')\n",
    "plt.yticks( ticks = range(len(names_by_rank)), labels = names_by_rank )\n",
    "plt.gca().invert_yaxis()\n",
    "plt.grid(b=None)\n",
    "plt.ylim((-.5, len(names_by_rank)-.5))\n",
    "plt.title('P(chat), smoothed by [%d] minutes'%n_smooth)\n",
    "\n",
    "plt.subplot(1,3,3)\n",
    "corr = pd.DataFrame( raster_smooth ).corr()\n",
    "plt.imshow(corr)\n",
    "plt.xticks( ticks = range(len(names_by_rank)), labels = names_by_rank )\n",
    "plt.yticks( ticks = range(len(names_by_rank)), labels = names_by_rank )\n",
    "plt.axis((-.5,len(names_by_rank)-.5,-.5,len(names_by_rank)-.5))\n",
    "plt.gca().invert_yaxis()\n",
    "plt.grid(b=None)\n",
    "cb=plt.colorbar(label='Pearson r')\n",
    "plt.title(('Correlation table'));\n",
    "plt.show()\n",
    "#plt.clim((0,.5))\n"
   ]
  },
  {
   "cell_type": "code",
   "execution_count": null,
   "metadata": {},
   "outputs": [],
   "source": []
  }
 ],
 "metadata": {
  "kernelspec": {
   "display_name": "Python 3",
   "language": "python",
   "name": "python3"
  },
  "language_info": {
   "codemirror_mode": {
    "name": "ipython",
    "version": 3
   },
   "file_extension": ".py",
   "mimetype": "text/x-python",
   "name": "python",
   "nbconvert_exporter": "python",
   "pygments_lexer": "ipython3",
   "version": "3.7.4"
  }
 },
 "nbformat": 4,
 "nbformat_minor": 4
}

{
 "cells": [
  {
   "cell_type": "markdown",
   "metadata": {},
   "source": [
    "### 1. 환경 및 경로 설정"
   ]
  },
  {
   "cell_type": "code",
   "execution_count": 103,
   "metadata": {},
   "outputs": [
    {
     "data": {
      "text/plain": [
       "['./sample.txt']"
      ]
     },
     "execution_count": 103,
     "metadata": {},
     "output_type": "execute_result"
    }
   ],
   "source": []
  },
  {
   "cell_type": "code",
   "execution_count": 108,
   "metadata": {},
   "outputs": [
    {
     "name": "stdout",
     "output_type": "stream",
     "text": [
      "Selected file -> :./sample.txt\n"
     ]
    }
   ],
   "source": [
    "import re\n",
    "import pandas as pd; import datetime as dt; import numpy as np\n",
    "import matplotlib.pyplot as plt\n",
    "import locale; locale.setlocale(locale.LC_ALL, 'ko_KR.UTF-8')\n",
    "import os\n",
    "from glob import glob\n",
    "datadir = './'\n",
    "filelist = glob(datadir+'*.txt');filelist.sort();\n",
    "\n",
    "# File selection\n",
    "filename = filelist[-1]\n",
    "print('Selected file -> :'+filename)\n"
   ]
  },
  {
   "cell_type": "markdown",
   "metadata": {},
   "source": [
    "### 2. 텍스트 라인 포맷에 맞게 잘라내는 함수 정의"
   ]
  },
  {
   "cell_type": "code",
   "execution_count": 109,
   "metadata": {},
   "outputs": [],
   "source": [
    "def parse_line( txt ):\n",
    "  txt_split = txt.split(',')\n",
    "  time_ = txt_split[0]+','+txt_split[1]\n",
    "  id_ = txt_split[2].split(':')[0][1:-1].split('/')[0]\n",
    "  contents_ = txt_split[2].split(':')[1][1:-1]\n",
    "  contents_ = re.compile('[ㄱ-ㅎ|ㅏ-ㅣ]').sub('',contents_)\n",
    "  return time_, id_, contents_"
   ]
  },
  {
   "cell_type": "markdown",
   "metadata": {},
   "source": [
    "### 3. chat_data 폴더에 있는 모든 텍스트파일 긁어와서 list에 넣기 "
   ]
  },
  {
   "cell_type": "code",
   "execution_count": 110,
   "metadata": {},
   "outputs": [],
   "source": [
    "lines, ids, times, institutes = [], [], [], []\n",
    "for fileIdx in range(len(filelist)):\n",
    "    #print('Opening .... Filename : [%s]'%datadir+filelist[fileIdx])\n",
    "    chat = open(datadir+filelist[fileIdx], 'r', encoding=\"utf-8\").readlines()[8:]\n",
    "    for lineIdx in range(len(chat)):\n",
    "        line = chat[lineIdx]\n",
    "        if line is not '\\n':\n",
    "            try:\n",
    "                time_, id_, contents_ = parse_line(line)\n",
    "                ids.append(id_); \n",
    "                lines.append(contents_)\n",
    "                times.append(time_); \n",
    "            except:\n",
    "                pass\n",
    "        \n",
    "# Save option\n",
    "saveOpt = True\n",
    "if saveOpt:\n",
    "    df = pd.DataFrame( {'timestamp':times, 'nickname':ids, \"contents\":lines })\n",
    "    writer = pd.ExcelWriter('chat_data.xlsx', engine='xlsxwriter')\n",
    "    df.to_excel(writer, sheet_name='Sheet1')\n",
    "    writer.close()"
   ]
  },
  {
   "cell_type": "markdown",
   "metadata": {},
   "source": [
    "### 4. 이름 별 채팅 횟수 계산 / Rank 나타내기"
   ]
  },
  {
   "cell_type": "code",
   "execution_count": 113,
   "metadata": {},
   "outputs": [
    {
     "name": "stdout",
     "output_type": "stream",
     "text": [
      "[Rank 01] 이재현 박사님: 32\n",
      "[Rank 02] 효빈: 31\n",
      "[Rank 03] 김보원 박사님: 22\n",
      "[Rank 04] 김정영 경희대: 19\n",
      "[Rank 05] 이규환: 12\n",
      "[Rank 06] 이유진: 6\n",
      "[Rank 07] 박지애: 4\n",
      "[Rank 08] 김해온: 2\n"
     ]
    },
    {
     "data": {
      "image/png": "[encoded data removed]",
      "text/plain": [
       "<Figure size 360x360 with 1 Axes>"
      ]
     },
     "metadata": {},
     "output_type": "display_data"
    }
   ],
   "source": [
    "nicknames = df['nickname'].to_list()\n",
    "\n",
    "# Count\n",
    "from collections import Counter\n",
    "count = dict( Counter(nicknames) )\n",
    "names = list(count.keys())\n",
    "counts = np.array(list(count.values()))\n",
    "\n",
    "# Sort & formulate x, y data\n",
    "rank = counts.argsort()\n",
    "x,y=[],[]\n",
    "for rankIdx in range(len(rank)-1,0,-1):\n",
    "  print('[Rank %02d] %s: %d'%(len(rank)-rankIdx,names[rank[rankIdx]], counts[rank[rankIdx]]))\n",
    "  x.append(names[rank[rankIdx]]); y.append(counts[rank[rankIdx]])\n",
    "\n",
    "# Visualization\n",
    "#plt.style.use('ggplot')\n",
    "plt.figure(figsize=(5,5))\n",
    "plt.barh(x, y)\n",
    "ax = plt.gca(); ax.invert_yaxis(); #ax.set_xscale('log')\n",
    "plt.xlabel('Total message count rank', fontsize=15)\n",
    "ax.tick_params( axis='y', labelsize= 20 )\n",
    "ax.tick_params( axis='x', labelsize= 15 )\n"
   ]
  },
  {
   "cell_type": "markdown",
   "metadata": {},
   "source": [
    "### 5. 특정 이름 가진 사람만 분석하기"
   ]
  },
  {
   "cell_type": "code",
   "execution_count": 112,
   "metadata": {},
   "outputs": [
    {
     "name": "stdout",
     "output_type": "stream",
     "text": [
      "['다른분들은 목요일 11시 미팅 괜찮으신가요?', '저널클럽은 다음주 목요일 오전 11시로 미루겠습니다', '미팅을 다음주로 합치면 너무 길어지지않을까요?', '아 그럼 저널은 예정대로 다음주로 미룰까요? 아니면 그대로 진행할까요', '저는 오늘 학교에 제출할 게 있어서 학교로 가겠습니다', '혹시 nas 계정과 비밀번호 기억나는 분 계신가요??', '아 해결됬습니다', '저는 아닙니다', '저 다시 결제해야되서 금액 다를거에', '아 저 국가선택 잘못한게 아직 해결안되', '저도 괜찮습니다', '넵 감사합니다', 'jeelab 단톡방입니다!', '저는 괜찮습니다', '오늘 발표는 유진씨 -> 저 순서로 하겠습니다', '헉 넵넵  얼른 나아서 오세요', '넵 여기로 들어와주시면 됩니다', '저도 최박사님카드로 결제해서 아니에요', '넵 감사합니다']\n"
     ]
    },
    {
     "data": {
      "text/plain": [
       "['Aug 3, 2021 9:36 AM',\n",
       " 'Aug 3, 2021 10:33 AM',\n",
       " 'Aug 3, 2021 1:54 PM',\n",
       " 'Aug 3, 2021 6:26 PM',\n",
       " 'Aug 5, 2021 9:09 AM',\n",
       " 'Aug 9, 2021 1:53 PM',\n",
       " 'Aug 9, 2021 1:56 PM',\n",
       " 'Aug 11, 2021 11:43 AM',\n",
       " 'Aug 11, 2021 12:38 PM',\n",
       " 'Aug 11, 2021 12:56 PM',\n",
       " 'Aug 11, 2021 3:24 PM',\n",
       " 'Aug 12, 2021 11:28 AM',\n",
       " 'Aug 12, 2021 11:31 AM',\n",
       " 'Aug 12, 2021 2:20 PM',\n",
       " 'Aug 17, 2021 11:58 AM',\n",
       " 'Aug 17, 2021 4:46 PM',\n",
       " 'Aug 19, 2021 10:20 AM',\n",
       " 'Aug 19, 2021 4:24 PM',\n",
       " 'Aug 25, 2021 3:28 PM']"
      ]
     },
     "execution_count": 112,
     "metadata": {},
     "output_type": "execute_result"
    }
   ],
   "source": [
    "# 계산 편의를 위해 리스트로 변환\n",
    "nicknames = df['nickname'].to_list()\n",
    "timestamps = df['timestamp'].to_list()\n",
    "contents = df['contents'].to_list()\n",
    "\n",
    "target_id = '김정영'\n",
    "times = [timestamps[i] for i in range(len(nicknames)) if target_id in nicknames[i]]\n",
    "lines = [contents[i] for i in range(len(nicknames)) if target_id in nicknames[i]]\n",
    "\n",
    "print(lines)\n",
    "times"
   ]
  },
  {
   "cell_type": "code",
   "execution_count": null,
   "metadata": {},
   "outputs": [],
   "source": []
  }
 ],
 "metadata": {
  "kernelspec": {
   "display_name": "Python 3",
   "language": "python",
   "name": "python3"
  },
  "language_info": {
   "codemirror_mode": {
    "name": "ipython",
    "version": 3
   },
   "file_extension": ".py",
   "mimetype": "text/x-python",
   "name": "python",
   "nbconvert_exporter": "python",
   "pygments_lexer": "ipython3",
   "version": "3.7.4"
  }
 },
 "nbformat": 4,
 "nbformat_minor": 4
}
